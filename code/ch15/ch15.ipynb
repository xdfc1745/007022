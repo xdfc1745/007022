{
 "cells": [
  {
   "cell_type": "markdown",
   "metadata": {},
   "source": [
    "# 15장. 심층 합성곱 신경망으로 이미지 분류"
   ]
  },
  {
   "cell_type": "markdown",
   "metadata": {},
   "source": [
    "**아래 링크를 통해 이 노트북을 주피터 노트북 뷰어(nbviewer.jupyter.org)로 보거나 구글 코랩(colab.research.google.com)에서 실행할 수 있습니다.**\n",
    "\n",
    "<table class=\"tfo-notebook-buttons\" align=\"left\">\n",
    "  <td>\n",
    "    <a target=\"_blank\" href=\"https://nbviewer.jupyter.org/github/rickiepark/python-machine-learning-book-2nd-edition/blob/master/code/ch15/ch15.ipynb\"><img src=\"https://jupyter.org/assets/main-logo.svg\" width=\"28\" />주피터 노트북 뷰어로 보기</a>\n",
    "  </td>\n",
    "  <td>\n",
    "    <a target=\"_blank\" href=\"https://colab.research.google.com/github/rickiepark/python-machine-learning-book-2nd-edition/blob/master/code/ch15/ch15.ipynb\"><img src=\"https://www.tensorflow.org/images/colab_logo_32px.png\" />구글 코랩(Colab)에서 실행하기</a>\n",
    "  </td>\n",
    "</table>"
   ]
  },
  {
   "cell_type": "markdown",
   "metadata": {},
   "source": [
    "`watermark`는 주피터 노트북에 사용하는 파이썬 패키지를 출력하기 위한 유틸리티입니다. `watermark` 패키지를 설치하려면 다음 셀의 주석을 제거한 뒤 실행하세요."
   ]
  },
  {
   "cell_type": "code",
   "execution_count": null,
   "metadata": {},
   "outputs": [],
   "source": [
    "#!pip install watermark"
   ]
  },
  {
   "cell_type": "code",
   "execution_count": 1,
   "metadata": {},
   "outputs": [
    {
     "name": "stdout",
     "output_type": "stream",
     "text": [
      "2019-04-26 \n",
      "\n",
      "numpy 1.16.3\n",
      "scipy 1.2.1\n",
      "tensorflow 2.0.0-alpha0\n"
     ]
    }
   ],
   "source": [
    "%load_ext watermark\n",
    "%watermark -d -p numpy,scipy,tensorflow"
   ]
  },
  {
   "cell_type": "markdown",
   "metadata": {},
   "source": [
    "**이 노트북을 실행하려면 텐서플로 2.0.0-alpha0 버전 이상이 필요합니다. 이전 버전의 텐서플로가 설치되어 있다면 다음 셀의 주석을 제거한 뒤 실행하세요.**"
   ]
  },
  {
   "cell_type": "code",
   "execution_count": null,
   "metadata": {},
   "outputs": [],
   "source": [
    "#!pip install tensorflow==2.0.0-alpha0"
   ]
  },
  {
   "cell_type": "markdown",
   "metadata": {},
   "source": [
    "**코랩을 사용할 때는 다음 셀의 주석을 제거하고 GPU 버전의 텐서플로 2.0.0-alpha0 버전을 설치하세요.**"
   ]
  },
  {
   "cell_type": "code",
   "execution_count": null,
   "metadata": {},
   "outputs": [],
   "source": [
    "#!pip install tensorflow-gpu==2.0.0-alpha0"
   ]
  },
  {
   "cell_type": "markdown",
   "metadata": {},
   "source": [
    "# 합성곱 신경망의 구성 요소"
   ]
  },
  {
   "cell_type": "markdown",
   "metadata": {},
   "source": [
    "## 이산 합성곱 수행하기"
   ]
  },
  {
   "cell_type": "markdown",
   "metadata": {},
   "source": [
    "### 합성곱 출력 크기 계산하기"
   ]
  },
  {
   "cell_type": "code",
   "execution_count": 2,
   "metadata": {},
   "outputs": [
    {
     "name": "stdout",
     "output_type": "stream",
     "text": [
      "Conv1d 구현:  [ 5. 14. 16. 26. 24. 34. 19. 22.]\n",
      "넘파이 결과:  [ 5 14 16 26 24 34 19 22]\n"
     ]
    }
   ],
   "source": [
    "import numpy as np\n",
    "\n",
    "\n",
    "def conv1d(x, w, p=0, s=1):\n",
    "    w_rot = np.array(w[::-1])\n",
    "    x_padded = np.array(x)\n",
    "    if p > 0:\n",
    "        zero_pad = np.zeros(shape=p)\n",
    "        x_padded = np.concatenate([zero_pad, x_padded, zero_pad])\n",
    "    res = []\n",
    "    for i in range(0, int(len(x)/s),s):\n",
    "        res.append(np.sum(x_padded[i:i+w_rot.shape[0]] * w_rot))\n",
    "    return np.array(res)\n",
    "\n",
    "## 테스트:\n",
    "x = [1, 3, 2, 4, 5, 6, 1, 3]\n",
    "w = [1, 0, 3, 1, 2]\n",
    "print('Conv1d 구현: ', \n",
    "      conv1d(x, w, p=2, s=1))\n",
    "print('넘파이 결과: ', \n",
    "      np.convolve(x, w, mode='same'))"
   ]
  },
  {
   "cell_type": "markdown",
   "metadata": {},
   "source": [
    "### 2D 이산 합성곱 수행하기"
   ]
  },
  {
   "cell_type": "code",
   "execution_count": 3,
   "metadata": {},
   "outputs": [
    {
     "name": "stdout",
     "output_type": "stream",
     "text": [
      "Conv2d 구현: \n",
      " [[11. 25. 32. 13.]\n",
      " [19. 25. 24. 13.]\n",
      " [13. 28. 25. 17.]\n",
      " [11. 17. 14.  9.]]\n",
      "싸이파이 결과: \n",
      " [[11 25 32 13]\n",
      " [19 25 24 13]\n",
      " [13 28 25 17]\n",
      " [11 17 14  9]]\n"
     ]
    }
   ],
   "source": [
    "import numpy as np\n",
    "import scipy.signal\n",
    "\n",
    "\n",
    "def conv2d(X, W, p=(0,0), s=(1,1)):\n",
    "    W_rot = np.array(W)[::-1,::-1]\n",
    "    X_orig = np.array(X)\n",
    "    n1 = X_orig.shape[0] + 2*p[0]\n",
    "    n2 = X_orig.shape[1] + 2*p[1]\n",
    "    X_padded = np.zeros(shape=(n1,n2))\n",
    "    X_padded[p[0]:p[0] + X_orig.shape[0], \n",
    "             p[1]:p[1] + X_orig.shape[1]] = X_orig\n",
    "\n",
    "    res = []\n",
    "    for i in range(0, int((X_padded.shape[0] - \n",
    "                           W_rot.shape[0])/s[0])+1, s[0]):\n",
    "        res.append([])\n",
    "        for j in range(0, int((X_padded.shape[1] - \n",
    "                               W_rot.shape[1])/s[1])+1, s[1]):\n",
    "            X_sub = X_padded[i:i+W_rot.shape[0], j:j+W_rot.shape[1]]\n",
    "            res[-1].append(np.sum(X_sub * W_rot))\n",
    "    return(np.array(res))\n",
    "    \n",
    "X = [[1, 3, 2, 4], [5, 6, 1, 3], [1 , 2,0, 2], [3, 4, 3, 2]]\n",
    "W = [[1, 0, 3], [1, 2, 1], [0, 1, 1]]\n",
    "print('Conv2d 구현: \\n', \n",
    "      conv2d(X, W, p=(1,1), s=(1,1)))\n",
    "\n",
    "print('싸이파이 결과: \\n', \n",
    "      scipy.signal.convolve2d(X, W, mode='same'))"
   ]
  },
  {
   "cell_type": "markdown",
   "metadata": {},
   "source": [
    "# 기본 구성 요소를 사용하여 CNN 구성하기"
   ]
  },
  {
   "cell_type": "markdown",
   "metadata": {},
   "source": [
    "## 여러 개의 입력 또는 컬러 채널을 다루기"
   ]
  },
  {
   "cell_type": "markdown",
   "metadata": {},
   "source": [
    "**코랩을 사용할 때는 다음 셀의 주석을 제거하고 실행하세요.**"
   ]
  },
  {
   "cell_type": "code",
   "execution_count": null,
   "metadata": {},
   "outputs": [],
   "source": [
    "#!wget https://github.com/rickiepark/python-machine-learning-book-2nd-edition/raw/master/code/ch15/example-image.png"
   ]
  },
  {
   "cell_type": "code",
   "execution_count": 4,
   "metadata": {},
   "outputs": [
    {
     "name": "stdout",
     "output_type": "stream",
     "text": [
      "이미지 크기: (252, 221, 3)\n",
      "채널 수: 3\n",
      "이미지 데이터 타입: uint8\n",
      "[[[179 134 110]\n",
      "  [182 136 112]]\n",
      "\n",
      " [[180 135 111]\n",
      "  [182 137 113]]]\n"
     ]
    }
   ],
   "source": [
    "import imageio\n",
    "\n",
    "img = imageio.imread('./example-image.png', pilmode='RGB')\n",
    "    \n",
    "print('이미지 크기:', img.shape)\n",
    "print('채널 수:', img.shape[2])\n",
    "print('이미지 데이터 타입:', img.dtype)\n",
    "\n",
    "print(img[100:102, 100:102, :])"
   ]
  },
  {
   "cell_type": "markdown",
   "metadata": {},
   "source": [
    "# 텐서플로를 사용해 심층 합성곱 신경망 구현하기"
   ]
  },
  {
   "cell_type": "markdown",
   "metadata": {},
   "source": [
    "## 데이터 적재와 전처리"
   ]
  },
  {
   "cell_type": "markdown",
   "metadata": {},
   "source": [
    "**코랩을 사용할 때는 다음 셀의 주석을 제거하고 실행하세요.**"
   ]
  },
  {
   "cell_type": "code",
   "execution_count": null,
   "metadata": {},
   "outputs": [],
   "source": [
    "#!wget https://github.com/rickiepark/python-machine-learning-book-2nd-edition/raw/master/code/ch12/t10k-images-idx3-ubyte.gz\n",
    "#!wget https://github.com/rickiepark/python-machine-learning-book-2nd-edition/raw/master/code/ch12/t10k-labels-idx1-ubyte.gz\n",
    "#!wget https://github.com/rickiepark/python-machine-learning-book-2nd-edition/raw/master/code/ch12/train-images-idx3-ubyte.gz\n",
    "#!wget https://github.com/rickiepark/python-machine-learning-book-2nd-edition/raw/master/code/ch12/train-labels-idx1-ubyte.gz"
   ]
  },
  {
   "cell_type": "code",
   "execution_count": 5,
   "metadata": {},
   "outputs": [],
   "source": [
    "## MNIST 데이터셋 압축을 풉니다.\n",
    "\n",
    "import sys\n",
    "import gzip\n",
    "import shutil\n",
    "import os\n",
    "\n",
    "\n",
    "if (sys.version_info > (3, 0)):\n",
    "    writemode = 'wb'\n",
    "else:\n",
    "    writemode = 'w'\n",
    "\n",
    "zipped_mnist = [f for f in os.listdir('./')\n",
    "                if f.endswith('ubyte.gz')]\n",
    "for z in zipped_mnist:\n",
    "    with gzip.GzipFile(z, mode='rb') as decompressed, open(z[:-3], writemode) as outfile:\n",
    "        outfile.write(decompressed.read())"
   ]
  },
  {
   "cell_type": "code",
   "execution_count": 6,
   "metadata": {},
   "outputs": [
    {
     "name": "stdout",
     "output_type": "stream",
     "text": [
      "행: 60000,  열: 784\n",
      "행: 10000,  열: 784\n",
      "훈련 세트:  (50000, 784) (50000,)\n",
      "검증 세트:  (10000, 784) (10000,)\n",
      "테스트 세트:  (10000, 784) (10000,)\n"
     ]
    }
   ],
   "source": [
    "import struct\n",
    "import numpy as np\n",
    "\n",
    "\n",
    "def load_mnist(path, kind='train'):\n",
    "    \"\"\"`path`에서 MNIST 데이터셋을 적재합니다.\"\"\"\n",
    "    labels_path = os.path.join(path,\n",
    "                               '%s-labels-idx1-ubyte'\n",
    "                                % kind)\n",
    "    images_path = os.path.join(path,\n",
    "                               '%s-images-idx3-ubyte'\n",
    "                               % kind)\n",
    "\n",
    "    with open(labels_path, 'rb') as lbpath:\n",
    "        magic, n = struct.unpack('>II',\n",
    "                                 lbpath.read(8))\n",
    "        labels = np.fromfile(lbpath,\n",
    "                             dtype=np.uint8)\n",
    "\n",
    "    with open(images_path, 'rb') as imgpath:\n",
    "        magic, num, rows, cols = struct.unpack(\">IIII\",\n",
    "                                               imgpath.read(16))\n",
    "        images = np.fromfile(imgpath,\n",
    "                             dtype=np.uint8).reshape(len(labels), 784)\n",
    "\n",
    "    return images, labels\n",
    "\n",
    "\n",
    "X_data, y_data = load_mnist('./', kind='train')\n",
    "print('행: %d,  열: %d' % (X_data.shape[0], X_data.shape[1]))\n",
    "X_test, y_test = load_mnist('./', kind='t10k')\n",
    "print('행: %d,  열: %d' % (X_test.shape[0], X_test.shape[1]))\n",
    "\n",
    "X_train, y_train = X_data[:50000,:], y_data[:50000]\n",
    "X_valid, y_valid = X_data[50000:,:], y_data[50000:]\n",
    "\n",
    "print('훈련 세트: ', X_train.shape, y_train.shape)\n",
    "print('검증 세트: ', X_valid.shape, y_valid.shape)\n",
    "print('테스트 세트: ', X_test.shape, y_test.shape)"
   ]
  },
  {
   "cell_type": "code",
   "execution_count": 7,
   "metadata": {},
   "outputs": [],
   "source": [
    "mean_vals = np.mean(X_train, axis=0)\n",
    "std_val = np.std(X_train)\n",
    "\n",
    "X_train_centered = (X_train - mean_vals)/std_val\n",
    "X_valid_centered = (X_valid - mean_vals)/std_val\n",
    "X_test_centered = (X_test - mean_vals)/std_val"
   ]
  },
  {
   "cell_type": "code",
   "execution_count": 8,
   "metadata": {},
   "outputs": [],
   "source": [
    "X_train_centered = X_train_centered.reshape((-1, 28, 28, 1))\n",
    "X_valid_centered = X_valid_centered.reshape((-1, 28, 28, 1))\n",
    "X_test_centered = X_test_centered.reshape((-1, 28, 28, 1))"
   ]
  },
  {
   "cell_type": "code",
   "execution_count": 9,
   "metadata": {},
   "outputs": [],
   "source": [
    "from tensorflow.keras.utils import to_categorical\n",
    "\n",
    "y_train_onehot = to_categorical(y_train)\n",
    "y_valid_onehot = to_categorical(y_valid)\n",
    "y_test_onehot = to_categorical(y_test)"
   ]
  },
  {
   "cell_type": "code",
   "execution_count": 10,
   "metadata": {},
   "outputs": [
    {
     "name": "stdout",
     "output_type": "stream",
     "text": [
      "5 [0. 0. 0. 0. 0. 1. 0. 0. 0. 0.]\n"
     ]
    }
   ],
   "source": [
    "print(y_train[0], y_train_onehot[0])"
   ]
  },
  {
   "cell_type": "code",
   "execution_count": 11,
   "metadata": {},
   "outputs": [
    {
     "name": "stdout",
     "output_type": "stream",
     "text": [
      "훈련 세트:  (50000, 28, 28, 1) (50000, 10)\n",
      "검증 세트:  (10000, 28, 28, 1) (10000, 10)\n",
      "테스트 세트:  (10000, 28, 28, 1) (10000, 10)\n"
     ]
    }
   ],
   "source": [
    "print('훈련 세트: ', X_train_centered.shape, y_train_onehot.shape)\n",
    "print('검증 세트: ', X_valid_centered.shape, y_valid_onehot.shape)\n",
    "print('테스트 세트: ', X_test_centered.shape, y_test_onehot.shape)"
   ]
  },
  {
   "cell_type": "markdown",
   "metadata": {},
   "source": [
    "## 텐서플로 Keras API로 CNN 구성하기"
   ]
  },
  {
   "cell_type": "code",
   "execution_count": 12,
   "metadata": {},
   "outputs": [],
   "source": [
    "from tensorflow.keras import layers, models"
   ]
  },
  {
   "cell_type": "code",
   "execution_count": 13,
   "metadata": {},
   "outputs": [],
   "source": [
    "model = models.Sequential()"
   ]
  },
  {
   "cell_type": "code",
   "execution_count": 14,
   "metadata": {},
   "outputs": [],
   "source": [
    "model.add(layers.Conv2D(32, (5, 5), padding='valid', \n",
    "                        activation='relu', input_shape=(28, 28, 1)))\n",
    "model.add(layers.MaxPool2D((2, 2)))\n",
    "model.add(layers.Conv2D(64, (5, 5), padding='valid', \n",
    "                        activation='relu'))\n",
    "model.add(layers.MaxPool2D((2, 2)))\n",
    "model.add(layers.Flatten())\n",
    "model.add(layers.Dense(1024, activation='relu'))\n",
    "model.add(layers.Dropout(0.5))\n",
    "model.add(layers.Dense(10, activation='softmax'))"
   ]
  },
  {
   "cell_type": "code",
   "execution_count": 15,
   "metadata": {},
   "outputs": [
    {
     "name": "stdout",
     "output_type": "stream",
     "text": [
      "Model: \"sequential\"\n",
      "_________________________________________________________________\n",
      "Layer (type)                 Output Shape              Param #   \n",
      "=================================================================\n",
      "conv2d (Conv2D)              (None, 24, 24, 32)        832       \n",
      "_________________________________________________________________\n",
      "max_pooling2d (MaxPooling2D) (None, 12, 12, 32)        0         \n",
      "_________________________________________________________________\n",
      "conv2d_1 (Conv2D)            (None, 8, 8, 64)          51264     \n",
      "_________________________________________________________________\n",
      "max_pooling2d_1 (MaxPooling2 (None, 4, 4, 64)          0         \n",
      "_________________________________________________________________\n",
      "flatten (Flatten)            (None, 1024)              0         \n",
      "_________________________________________________________________\n",
      "dense (Dense)                (None, 1024)              1049600   \n",
      "_________________________________________________________________\n",
      "dropout (Dropout)            (None, 1024)              0         \n",
      "_________________________________________________________________\n",
      "dense_1 (Dense)              (None, 10)                10250     \n",
      "=================================================================\n",
      "Total params: 1,111,946\n",
      "Trainable params: 1,111,946\n",
      "Non-trainable params: 0\n",
      "_________________________________________________________________\n"
     ]
    }
   ],
   "source": [
    "model.summary()"
   ]
  },
  {
   "cell_type": "markdown",
   "metadata": {},
   "source": [
    "## 합성곱 신경망 모델 훈련하기"
   ]
  },
  {
   "cell_type": "code",
   "execution_count": 16,
   "metadata": {},
   "outputs": [],
   "source": [
    "model.compile(loss='categorical_crossentropy', \n",
    "              optimizer='adam', metrics=['acc'])"
   ]
  },
  {
   "cell_type": "code",
   "execution_count": 17,
   "metadata": {},
   "outputs": [],
   "source": [
    "import time\n",
    "from tensorflow.keras.callbacks import ModelCheckpoint, TensorBoard\n",
    "\n",
    "callback_list = [ModelCheckpoint(filepath='cnn_checkpoint.h5', \n",
    "                                 monitor='val_loss', \n",
    "                                 save_best_only=True), \n",
    "                 TensorBoard(log_dir=\"logs/{}\".format(time.asctime()))]"
   ]
  },
  {
   "cell_type": "code",
   "execution_count": 18,
   "metadata": {},
   "outputs": [
    {
     "name": "stdout",
     "output_type": "stream",
     "text": [
      "Train on 50000 samples, validate on 10000 samples\n",
      "Epoch 1/20\n",
      "50000/50000 [==============================] - 4s 87us/sample - loss: 0.1377 - acc: 0.9564 - val_loss: 0.0577 - val_acc: 0.9838\n",
      "Epoch 2/20\n",
      "50000/50000 [==============================] - 3s 69us/sample - loss: 0.0481 - acc: 0.9852 - val_loss: 0.0508 - val_acc: 0.9852\n",
      "Epoch 3/20\n",
      "50000/50000 [==============================] - 4s 72us/sample - loss: 0.0363 - acc: 0.9891 - val_loss: 0.0431 - val_acc: 0.9873\n",
      "Epoch 4/20\n",
      "50000/50000 [==============================] - 4s 72us/sample - loss: 0.0273 - acc: 0.9915 - val_loss: 0.0329 - val_acc: 0.9922\n",
      "Epoch 5/20\n",
      "50000/50000 [==============================] - 4s 72us/sample - loss: 0.0255 - acc: 0.9918 - val_loss: 0.0371 - val_acc: 0.9907\n",
      "Epoch 6/20\n",
      "50000/50000 [==============================] - 4s 72us/sample - loss: 0.0195 - acc: 0.9937 - val_loss: 0.0370 - val_acc: 0.9924\n",
      "Epoch 7/20\n",
      "50000/50000 [==============================] - 4s 72us/sample - loss: 0.0184 - acc: 0.9941 - val_loss: 0.0393 - val_acc: 0.9911\n",
      "Epoch 8/20\n",
      "50000/50000 [==============================] - 4s 72us/sample - loss: 0.0183 - acc: 0.9945 - val_loss: 0.0322 - val_acc: 0.9929\n",
      "Epoch 9/20\n",
      "50000/50000 [==============================] - 4s 71us/sample - loss: 0.0147 - acc: 0.9954 - val_loss: 0.0427 - val_acc: 0.9909\n",
      "Epoch 10/20\n",
      "50000/50000 [==============================] - 4s 72us/sample - loss: 0.0138 - acc: 0.9956 - val_loss: 0.0430 - val_acc: 0.9911\n",
      "Epoch 11/20\n",
      "50000/50000 [==============================] - 4s 72us/sample - loss: 0.0145 - acc: 0.9953 - val_loss: 0.0421 - val_acc: 0.9901\n",
      "Epoch 12/20\n",
      "50000/50000 [==============================] - 4s 72us/sample - loss: 0.0100 - acc: 0.9968 - val_loss: 0.0502 - val_acc: 0.9908\n",
      "Epoch 13/20\n",
      "50000/50000 [==============================] - 3s 68us/sample - loss: 0.0130 - acc: 0.9962 - val_loss: 0.0553 - val_acc: 0.9899\n",
      "Epoch 14/20\n",
      "50000/50000 [==============================] - 3s 68us/sample - loss: 0.0110 - acc: 0.9967 - val_loss: 0.0506 - val_acc: 0.9910\n",
      "Epoch 15/20\n",
      "50000/50000 [==============================] - 3s 69us/sample - loss: 0.0113 - acc: 0.9969 - val_loss: 0.0569 - val_acc: 0.9908\n",
      "Epoch 16/20\n",
      "50000/50000 [==============================] - 4s 72us/sample - loss: 0.0111 - acc: 0.9965 - val_loss: 0.0686 - val_acc: 0.9903\n",
      "Epoch 17/20\n",
      "50000/50000 [==============================] - 4s 72us/sample - loss: 0.0124 - acc: 0.9967 - val_loss: 0.0794 - val_acc: 0.9893\n",
      "Epoch 18/20\n",
      "50000/50000 [==============================] - 4s 72us/sample - loss: 0.0083 - acc: 0.9977 - val_loss: 0.0573 - val_acc: 0.9909\n",
      "Epoch 19/20\n",
      "50000/50000 [==============================] - 4s 72us/sample - loss: 0.0098 - acc: 0.9974 - val_loss: 0.0779 - val_acc: 0.9900\n",
      "Epoch 20/20\n",
      "50000/50000 [==============================] - 4s 72us/sample - loss: 0.0114 - acc: 0.9970 - val_loss: 0.0795 - val_acc: 0.9902\n"
     ]
    }
   ],
   "source": [
    "history = model.fit(X_train_centered, y_train_onehot, \n",
    "                    batch_size=64, epochs=20, \n",
    "                    validation_data=(X_valid_centered, y_valid_onehot),\n",
    "                    callbacks=callback_list)"
   ]
  },
  {
   "cell_type": "code",
   "execution_count": 19,
   "metadata": {},
   "outputs": [],
   "source": [
    "import matplotlib.pyplot as plt"
   ]
  },
  {
   "cell_type": "code",
   "execution_count": 20,
   "metadata": {
    "scrolled": true
   },
   "outputs": [
    {
     "data": {
      "image/png": "[encoded data removed]",
      "text/plain": [
       "<Figure size 432x288 with 1 Axes>"
      ]
     },
     "metadata": {
      "needs_background": "light"
     },
     "output_type": "display_data"
    }
   ],
   "source": [
    "epochs = np.arange(1, 21)\n",
    "plt.plot(epochs, history.history['loss'])\n",
    "plt.plot(epochs, history.history['val_loss'])\n",
    "plt.xlabel('epochs')\n",
    "plt.ylabel('loss')\n",
    "plt.show()"
   ]
  },
  {
   "cell_type": "code",
   "execution_count": 21,
   "metadata": {},
   "outputs": [
    {
     "data": {
      "image/png": "[encoded data removed]",
      "text/plain": [
       "<Figure size 432x288 with 1 Axes>"
      ]
     },
     "metadata": {
      "needs_background": "light"
     },
     "output_type": "display_data"
    }
   ],
   "source": [
    "plt.plot(epochs, history.history['acc'])\n",
    "plt.plot(epochs, history.history['val_acc'])\n",
    "plt.xlabel('epochs')\n",
    "plt.ylabel('accuracy')\n",
    "plt.show()"
   ]
  },
  {
   "cell_type": "code",
   "execution_count": 22,
   "metadata": {},
   "outputs": [
    {
     "name": "stdout",
     "output_type": "stream",
     "text": [
      "합계 16\r\n",
      "drwxr-xr-x 4 haesun haesun 4096  3월 15 11:24  .\r\n",
      "drwxrwxr-x 7 haesun haesun 4096  3월 15 11:24  ..\r\n",
      "drwxr-xr-x 2 haesun haesun 4096  3월 15 11:23  .ipynb_checkpoints\r\n",
      "drwxr-xr-x 5 haesun haesun 4096  3월 15 11:24 'Fri Mar 15 11:24:15 2019'\r\n"
     ]
    }
   ],
   "source": [
    "!ls -al logs/"
   ]
  },
  {
   "cell_type": "markdown",
   "metadata": {},
   "source": [
    "모델 저장"
   ]
  },
  {
   "cell_type": "code",
   "execution_count": 23,
   "metadata": {},
   "outputs": [],
   "source": [
    "model.save('cnn_model.h5')"
   ]
  },
  {
   "cell_type": "markdown",
   "metadata": {},
   "source": [
    "모델 복원"
   ]
  },
  {
   "cell_type": "code",
   "execution_count": 24,
   "metadata": {},
   "outputs": [],
   "source": [
    "from tensorflow.keras.models import load_model\n",
    "\n",
    "restored_model = load_model('cnn_model.h5')\n",
    "restored_model.load_weights('cnn_checkpoint.h5')"
   ]
  },
  {
   "cell_type": "markdown",
   "metadata": {},
   "source": [
    "테스트 정확도 확인"
   ]
  },
  {
   "cell_type": "code",
   "execution_count": 25,
   "metadata": {},
   "outputs": [
    {
     "name": "stdout",
     "output_type": "stream",
     "text": [
      "10000/10000 [==============================] - 0s 41us/sample - loss: 0.0279 - acc: 0.9923\n"
     ]
    },
    {
     "data": {
      "text/plain": [
       "[0.02787502632992919, 0.9923]"
      ]
     },
     "execution_count": 25,
     "metadata": {},
     "output_type": "execute_result"
    }
   ],
   "source": [
    "restored_model.evaluate(X_test_centered, y_test_onehot)"
   ]
  },
  {
   "cell_type": "markdown",
   "metadata": {},
   "source": [
    "테스트 샘플 예측 확인 + 이미지 출력"
   ]
  },
  {
   "cell_type": "code",
   "execution_count": 26,
   "metadata": {},
   "outputs": [
    {
     "data": {
      "text/plain": [
       "array([7, 2, 1, 0, 4, 1, 4, 9, 5, 9])"
      ]
     },
     "execution_count": 26,
     "metadata": {},
     "output_type": "execute_result"
    }
   ],
   "source": [
    "np.argmax(restored_model.predict(X_test_centered[:10]), axis=1)"
   ]
  },
  {
   "cell_type": "code",
   "execution_count": 27,
   "metadata": {},
   "outputs": [
    {
     "data": {
      "text/plain": [
       "array([7, 2, 1, 0, 4, 1, 4, 9, 5, 9], dtype=uint8)"
      ]
     },
     "execution_count": 27,
     "metadata": {},
     "output_type": "execute_result"
    }
   ],
   "source": [
    "y_test[:10]"
   ]
  },
  {
   "cell_type": "code",
   "execution_count": 28,
   "metadata": {},
   "outputs": [
    {
     "data": {
      "image/png": "[encoded data removed]",
      "text/plain": [
       "<Figure size 720x360 with 10 Axes>"
      ]
     },
     "metadata": {
      "needs_background": "light"
     },
     "output_type": "display_data"
    }
   ],
   "source": [
    "fig = plt.figure(figsize=(10, 5))\n",
    "for i in range(10):\n",
    "    fig.add_subplot(2, 5, i+1)\n",
    "    plt.imshow(X_test_centered[i].reshape(28, 28))"
   ]
  },
  {
   "cell_type": "markdown",
   "metadata": {},
   "source": [
    "## 활성화 출력과 필터 시각화하기"
   ]
  },
  {
   "cell_type": "code",
   "execution_count": 29,
   "metadata": {},
   "outputs": [
    {
     "name": "stdout",
     "output_type": "stream",
     "text": [
      "<tensorflow.python.keras.layers.convolutional.Conv2D object at 0x7fed375caf60>\n"
     ]
    }
   ],
   "source": [
    "first_layer = model.layers[0]\n",
    "print(first_layer)"
   ]
  },
  {
   "cell_type": "code",
   "execution_count": 30,
   "metadata": {},
   "outputs": [
    {
     "name": "stdout",
     "output_type": "stream",
     "text": [
      "Tensor(\"conv2d_input:0\", shape=(None, 28, 28, 1), dtype=float32)\n"
     ]
    }
   ],
   "source": [
    "print(model.input)"
   ]
  },
  {
   "cell_type": "code",
   "execution_count": 31,
   "metadata": {},
   "outputs": [],
   "source": [
    "first_activation = models.Model(inputs=model.input, \n",
    "                                outputs=first_layer.output)\n",
    "activation = first_activation.predict(X_test_centered[:10])"
   ]
  },
  {
   "cell_type": "code",
   "execution_count": 32,
   "metadata": {},
   "outputs": [
    {
     "name": "stdout",
     "output_type": "stream",
     "text": [
      "(10, 24, 24, 32)\n"
     ]
    }
   ],
   "source": [
    "print(activation.shape)"
   ]
  },
  {
   "cell_type": "code",
   "execution_count": 33,
   "metadata": {},
   "outputs": [
    {
     "data": {
      "image/png": "[encoded data removed]",
      "text/plain": [
       "<Figure size 720x1080 with 32 Axes>"
      ]
     },
     "metadata": {
      "needs_background": "light"
     },
     "output_type": "display_data"
    }
   ],
   "source": [
    "fig = plt.figure(figsize=(10, 15))\n",
    "for i in range(32):\n",
    "    fig.add_subplot(7, 5, i+1)\n",
    "    plt.imshow(activation[0, :, :, i])"
   ]
  },
  {
   "cell_type": "code",
   "execution_count": 34,
   "metadata": {},
   "outputs": [
    {
     "data": {
      "image/png": "[encoded data removed]",
      "text/plain": [
       "<Figure size 720x1080 with 32 Axes>"
      ]
     },
     "metadata": {
      "needs_background": "light"
     },
     "output_type": "display_data"
    }
   ],
   "source": [
    "fig = plt.figure(figsize=(10, 15))\n",
    "for i in range(32):\n",
    "    fig.add_subplot(7, 5, i+1)\n",
    "    plt.imshow(activation[3, :, :, i])"
   ]
  },
  {
   "cell_type": "code",
   "execution_count": 35,
   "metadata": {},
   "outputs": [
    {
     "data": {
      "image/png": "[encoded data removed]",
      "text/plain": [
       "<Figure size 720x1080 with 32 Axes>"
      ]
     },
     "metadata": {
      "needs_background": "light"
     },
     "output_type": "display_data"
    }
   ],
   "source": [
    "fig = plt.figure(figsize=(10, 15))\n",
    "for i in range(32):\n",
    "    fig.add_subplot(7, 5, i+1)\n",
    "    plt.imshow(first_layer.kernel[:, :, 0, i])"
   ]
  },
  {
   "cell_type": "markdown",
   "metadata": {},
   "source": [
    "20번 더 훈련"
   ]
  },
  {
   "cell_type": "code",
   "execution_count": 36,
   "metadata": {},
   "outputs": [
    {
     "name": "stdout",
     "output_type": "stream",
     "text": [
      "Train on 50000 samples, validate on 10000 samples\n",
      "Epoch 1/20\n",
      "50000/50000 [==============================] - 4s 80us/sample - loss: 0.0139 - acc: 0.9957 - val_loss: 0.0430 - val_acc: 0.9909\n",
      "Epoch 2/20\n",
      "50000/50000 [==============================] - 4s 78us/sample - loss: 0.0129 - acc: 0.9961 - val_loss: 0.0424 - val_acc: 0.9907\n",
      "Epoch 3/20\n",
      "50000/50000 [==============================] - 4s 78us/sample - loss: 0.0148 - acc: 0.9953 - val_loss: 0.0419 - val_acc: 0.9911\n",
      "Epoch 4/20\n",
      "50000/50000 [==============================] - 4s 72us/sample - loss: 0.0129 - acc: 0.9964 - val_loss: 0.0429 - val_acc: 0.9911\n",
      "Epoch 5/20\n",
      "50000/50000 [==============================] - 4s 71us/sample - loss: 0.0105 - acc: 0.9969 - val_loss: 0.0517 - val_acc: 0.9904\n",
      "Epoch 6/20\n",
      "50000/50000 [==============================] - 3s 70us/sample - loss: 0.0130 - acc: 0.9960 - val_loss: 0.0727 - val_acc: 0.9880\n",
      "Epoch 7/20\n",
      "50000/50000 [==============================] - 4s 70us/sample - loss: 0.0099 - acc: 0.9968 - val_loss: 0.0636 - val_acc: 0.9906\n",
      "Epoch 8/20\n",
      "50000/50000 [==============================] - 4s 70us/sample - loss: 0.0139 - acc: 0.9961 - val_loss: 0.0592 - val_acc: 0.9904\n",
      "Epoch 9/20\n",
      "50000/50000 [==============================] - 4s 70us/sample - loss: 0.0100 - acc: 0.9973 - val_loss: 0.0651 - val_acc: 0.9906\n",
      "Epoch 10/20\n",
      "50000/50000 [==============================] - 4s 70us/sample - loss: 0.0117 - acc: 0.9970 - val_loss: 0.0652 - val_acc: 0.9913\n",
      "Epoch 11/20\n",
      "50000/50000 [==============================] - 4s 70us/sample - loss: 0.0103 - acc: 0.9973 - val_loss: 0.0710 - val_acc: 0.9913\n",
      "Epoch 12/20\n",
      "50000/50000 [==============================] - 4s 71us/sample - loss: 0.0081 - acc: 0.9979 - val_loss: 0.0725 - val_acc: 0.9908\n",
      "Epoch 13/20\n",
      "50000/50000 [==============================] - 4s 70us/sample - loss: 0.0122 - acc: 0.9969 - val_loss: 0.0974 - val_acc: 0.9891\n",
      "Epoch 14/20\n",
      "50000/50000 [==============================] - 4s 70us/sample - loss: 0.0116 - acc: 0.9974 - val_loss: 0.0730 - val_acc: 0.9925\n",
      "Epoch 15/20\n",
      "50000/50000 [==============================] - 4s 70us/sample - loss: 0.0090 - acc: 0.9979 - val_loss: 0.0719 - val_acc: 0.9911\n",
      "Epoch 16/20\n",
      "50000/50000 [==============================] - 4s 70us/sample - loss: 0.0118 - acc: 0.9974 - val_loss: 0.0802 - val_acc: 0.9894\n",
      "Epoch 17/20\n",
      "50000/50000 [==============================] - 4s 70us/sample - loss: 0.0094 - acc: 0.9978 - val_loss: 0.0798 - val_acc: 0.9899\n",
      "Epoch 18/20\n",
      "50000/50000 [==============================] - 4s 71us/sample - loss: 0.0077 - acc: 0.9980 - val_loss: 0.0967 - val_acc: 0.9911\n",
      "Epoch 19/20\n",
      "50000/50000 [==============================] - 4s 71us/sample - loss: 0.0116 - acc: 0.9973 - val_loss: 0.0901 - val_acc: 0.9912\n",
      "Epoch 20/20\n",
      "50000/50000 [==============================] - 4s 70us/sample - loss: 0.0098 - acc: 0.9979 - val_loss: 0.0972 - val_acc: 0.9914\n"
     ]
    },
    {
     "data": {
      "text/plain": [
       "<tensorflow.python.keras.callbacks.History at 0x7fecac248eb8>"
      ]
     },
     "execution_count": 36,
     "metadata": {},
     "output_type": "execute_result"
    }
   ],
   "source": [
    "restored_model.fit(X_train_centered, y_train_onehot, batch_size=64, epochs=20, \n",
    "                   validation_data=(X_valid_centered, y_valid_onehot))"
   ]
  }
 ],
 "metadata": {
  "kernelspec": {
   "display_name": "Python 3",
   "language": "python",
   "name": "python3"
  },
  "language_info": {
   "codemirror_mode": {
    "name": "ipython",
    "version": 3
   },
   "file_extension": ".py",
   "mimetype": "text/x-python",
   "name": "python",
   "nbconvert_exporter": "python",
   "pygments_lexer": "ipython3",
   "version": "3.7.3"
  }
 },
 "nbformat": 4,
 "nbformat_minor": 2
}
