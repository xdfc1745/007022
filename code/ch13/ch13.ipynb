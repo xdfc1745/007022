{
 "cells": [
  {
   "cell_type": "markdown",
   "metadata": {},
   "source": [
    "# 13장. 텐서플로를 사용하여 신경망 훈련"
   ]
  },
  {
   "cell_type": "markdown",
   "metadata": {},
   "source": [
    "**아래 링크를 통해 이 노트북을 주피터 노트북 뷰어(nbviewer.jupyter.org)로 보거나 구글 코랩(colab.research.google.com)에서 실행할 수 있습니다.**\n",
    "\n",
    "<table class=\"tfo-notebook-buttons\" align=\"left\">\n",
    "  <td>\n",
    "    <a target=\"_blank\" href=\"https://nbviewer.jupyter.org/github/rickiepark/python-machine-learning-book-2nd-edition/blob/master/code/ch13/ch13.ipynb\"><img src=\"https://jupyter.org/assets/main-logo.svg\" width=\"28\" />주피터 노트북 뷰어로 보기</a>\n",
    "  </td>\n",
    "  <td>\n",
    "    <a target=\"_blank\" href=\"https://colab.research.google.com/github/rickiepark/python-machine-learning-book-2nd-edition/blob/master/code/ch13/ch13.ipynb\"><img src=\"https://www.tensorflow.org/images/colab_logo_32px.png\" />구글 코랩(Colab)에서 실행하기</a>\n",
    "  </td>\n",
    "</table>"
   ]
  },
  {
   "cell_type": "markdown",
   "metadata": {},
   "source": [
    "`watermark`는 주피터 노트북에 사용하는 파이썬 패키지를 출력하기 위한 유틸리티입니다. `watermark` 패키지를 설치하려면 다음 셀의 주석을 제거한 뒤 실행하세요."
   ]
  },
  {
   "cell_type": "code",
   "execution_count": null,
   "metadata": {},
   "outputs": [],
   "source": [
    "#!pip install watermark"
   ]
  },
  {
   "cell_type": "code",
   "execution_count": 1,
   "metadata": {
    "scrolled": true
   },
   "outputs": [
    {
     "name": "stdout",
     "output_type": "stream",
     "text": [
      "last updated: 2019-04-28 \n",
      "\n",
      "CPython 3.7.3\n",
      "IPython 7.4.0\n",
      "\n",
      "numpy 1.16.3\n",
      "tensorflow 2.0.0-alpha0\n",
      "matplotlib 3.0.3\n"
     ]
    }
   ],
   "source": [
    "%load_ext watermark\n",
    "%watermark -u -d -v -p numpy,tensorflow,matplotlib"
   ]
  },
  {
   "cell_type": "markdown",
   "metadata": {},
   "source": [
    "**이 노트북을 실행하려면 텐서플로 2.0.0-alpha0 버전 이상이 필요합니다. 이전 버전의 텐서플로가 설치되어 있다면 다음 셀의 주석을 제거한 뒤 실행하세요.**"
   ]
  },
  {
   "cell_type": "code",
   "execution_count": null,
   "metadata": {},
   "outputs": [],
   "source": [
    "#!pip install tensorflow==2.0.0-alpha0"
   ]
  },
  {
   "cell_type": "markdown",
   "metadata": {},
   "source": [
    "**코랩을 사용할 때는 다음 셀의 주석을 제거하고 GPU 버전의 텐서플로 2.0.0-alpha0 버전을 설치하세요.**"
   ]
  },
  {
   "cell_type": "code",
   "execution_count": null,
   "metadata": {},
   "outputs": [],
   "source": [
    "#!pip install tensorflow-gpu==2.0.0-alpha0"
   ]
  },
  {
   "cell_type": "markdown",
   "metadata": {},
   "source": [
    "## 고성능 머신 러닝 라이브러리 텐서플로"
   ]
  },
  {
   "cell_type": "markdown",
   "metadata": {},
   "source": [
    "### 텐서플로 시작하기"
   ]
  },
  {
   "cell_type": "code",
   "execution_count": 2,
   "metadata": {},
   "outputs": [
    {
     "name": "stdout",
     "output_type": "stream",
     "text": [
      "x= 1.0 --> z= 2.7\n",
      "x= 0.6 --> z= 1.9\n",
      "x=-1.8 --> z=-2.9\n"
     ]
    }
   ],
   "source": [
    "import tensorflow as tf\n",
    "\n",
    "## 그래프를 생성합니다\n",
    "g = tf.Graph()\n",
    "with g.as_default():\n",
    "    x = tf.compat.v1.placeholder(dtype=tf.float32,\n",
    "                       shape=(None), name='x')\n",
    "    w = tf.Variable(2.0, name='weight')\n",
    "    b = tf.Variable(0.7, name='bias')\n",
    "\n",
    "    z = w*x + b\n",
    "    init = tf.compat.v1.global_variables_initializer()\n",
    "\n",
    "## 세션을 만들고 그래프 g를 전달합니다\n",
    "with tf.compat.v1.Session(graph=g) as sess:\n",
    "    ## w와 b를 초기화합니다.\n",
    "    sess.run(init)\n",
    "    ## z를 평가합니다.\n",
    "    for t in [1.0, 0.6, -1.8]:\n",
    "        print('x=%4.1f --> z=%4.1f'%(\n",
    "              t, sess.run(z, feed_dict={x:t})))"
   ]
  },
  {
   "cell_type": "code",
   "execution_count": 3,
   "metadata": {},
   "outputs": [
    {
     "name": "stdout",
     "output_type": "stream",
     "text": [
      "[2.7 4.7 6.7]\n"
     ]
    }
   ],
   "source": [
    "with tf.compat.v1.Session(graph=g) as sess:\n",
    "    sess.run(init)\n",
    "    print(sess.run(z, feed_dict={x:[1., 2., 3.]})) "
   ]
  },
  {
   "cell_type": "code",
   "execution_count": 4,
   "metadata": {
    "scrolled": true
   },
   "outputs": [
    {
     "name": "stdout",
     "output_type": "stream",
     "text": [
      "Tensor(\"add:0\", dtype=float32)\n"
     ]
    }
   ],
   "source": [
    "print(z)"
   ]
  },
  {
   "cell_type": "code",
   "execution_count": 5,
   "metadata": {},
   "outputs": [
    {
     "name": "stdout",
     "output_type": "stream",
     "text": [
      "x= 1.0 --> z= 2.7\n",
      "x= 0.6 --> z= 1.9\n",
      "x=-1.8 --> z=-2.9\n"
     ]
    }
   ],
   "source": [
    "# TF 2.0\n",
    "\n",
    "w = tf.Variable(2.0, name='weight')\n",
    "b = tf.Variable(0.7, name='bias')\n",
    "\n",
    "# z를 평가합니다.\n",
    "for x in [1.0, 0.6, -1.8]:\n",
    "    z = w * x + b\n",
    "    print('x=%4.1f --> z=%4.1f'%(x, z))"
   ]
  },
  {
   "cell_type": "code",
   "execution_count": 6,
   "metadata": {
    "scrolled": true
   },
   "outputs": [
    {
     "name": "stdout",
     "output_type": "stream",
     "text": [
      "tf.Tensor(-2.8999999, shape=(), dtype=float32)\n"
     ]
    }
   ],
   "source": [
    "print(z)"
   ]
  },
  {
   "cell_type": "code",
   "execution_count": 7,
   "metadata": {},
   "outputs": [
    {
     "name": "stdout",
     "output_type": "stream",
     "text": [
      "[2.7 4.7 6.7]\n"
     ]
    }
   ],
   "source": [
    "z = w * [1., 2., 3.] + b\n",
    "print(z.numpy())"
   ]
  },
  {
   "cell_type": "markdown",
   "metadata": {},
   "source": [
    "### 배열 구조 다루기"
   ]
  },
  {
   "cell_type": "code",
   "execution_count": 8,
   "metadata": {},
   "outputs": [
    {
     "name": "stdout",
     "output_type": "stream",
     "text": [
      "입력 크기:  (3, 2, 3)\n",
      "크기가 변경된 입력:\n",
      " [[ 0  1  2  3  4  5]\n",
      " [ 6  7  8  9 10 11]\n",
      " [12 13 14 15 16 17]]\n",
      "열의 합:\n",
      " [18 21 24 27 30 33]\n",
      "열의 평균:\n",
      " [ 6  7  8  9 10 11]\n"
     ]
    }
   ],
   "source": [
    "import tensorflow as tf\n",
    "import numpy as np\n",
    "\n",
    "x_array = np.arange(18).reshape(3, 2, 3)\n",
    "\n",
    "x2 = tf.reshape(x_array, shape=(-1, 6))\n",
    "\n",
    "## 각 열의 합을 계산합니다.\n",
    "xsum = tf.reduce_sum(x2, axis=0)\n",
    "\n",
    "## 각 열의 평균을 계산합니다.\n",
    "xmean = tf.reduce_mean(x2, axis=0)\n",
    "\n",
    "print('입력 크기: ', x_array.shape)\n",
    "print('크기가 변경된 입력:\\n', x2.numpy())\n",
    "print('열의 합:\\n', xsum.numpy())\n",
    "print('열의 평균:\\n', xmean.numpy())"
   ]
  },
  {
   "cell_type": "markdown",
   "metadata": {},
   "source": [
    "### 텐서플로 저수준 API로 간단한 모델 개발하기"
   ]
  },
  {
   "cell_type": "code",
   "execution_count": 9,
   "metadata": {},
   "outputs": [],
   "source": [
    "import tensorflow as tf\n",
    "import numpy as np\n",
    " \n",
    "X_train = np.arange(10).reshape((10, 1))\n",
    "y_train = np.array([1.0, 1.3, 3.1,\n",
    "                    2.0, 5.0, 6.3, \n",
    "                    6.6, 7.4, 8.0, \n",
    "                    9.0])"
   ]
  },
  {
   "cell_type": "code",
   "execution_count": 10,
   "metadata": {},
   "outputs": [],
   "source": [
    "class TfLinreg(object):\n",
    "    \n",
    "    def __init__(self, learning_rate=0.01):\n",
    "        ## 가중치와 절편을 정의합니다\n",
    "        self.w = tf.Variable(tf.zeros(shape=(1)))\n",
    "        self.b = tf.Variable(tf.zeros(shape=(1)))\n",
    "        ## 경사 하강법 옵티마이저를 설정합니다.\n",
    "        self.optimizer = tf.keras.optimizers.SGD(lr=learning_rate)\n",
    "        \n",
    "    def fit(self, X, y, num_epochs=10):\n",
    "        ## 비용 함수의 값을 저장하기 위한 리스트를 정의합니다.\n",
    "        training_costs = []\n",
    "        for step in range(num_epochs):\n",
    "            ## 자동 미분을 위해 연산 과정을 기록합니다.\n",
    "            with tf.GradientTape() as tape:\n",
    "                z_net = self.w * X + self.b\n",
    "                z_net = tf.reshape(z_net, [-1])\n",
    "                sqr_errors = tf.square(y - z_net)\n",
    "                mean_cost = tf.reduce_mean(sqr_errors)\n",
    "            ## 비용 함수에 대한 가중치의 그래디언트를 계산합니다.\n",
    "            grads = tape.gradient(mean_cost, [self.w, self.b])\n",
    "            ## 옵티마이저에 그래디언트를 반영합니다.\n",
    "            self.optimizer.apply_gradients(zip(grads, [self.w, self.b]))\n",
    "            ## 비용 함수의 값을 저장합니다.\n",
    "            training_costs.append(mean_cost.numpy())\n",
    "        return training_costs\n",
    "    \n",
    "    def predict(self, X):\n",
    "        return self.w * X + self.b"
   ]
  },
  {
   "cell_type": "code",
   "execution_count": 11,
   "metadata": {
    "scrolled": true
   },
   "outputs": [],
   "source": [
    "lrmodel = TfLinreg()"
   ]
  },
  {
   "cell_type": "code",
   "execution_count": 12,
   "metadata": {},
   "outputs": [],
   "source": [
    "training_costs = lrmodel.fit(X_train, y_train)"
   ]
  },
  {
   "cell_type": "code",
   "execution_count": 13,
   "metadata": {},
   "outputs": [],
   "source": [
    "import matplotlib.pyplot as plt"
   ]
  },
  {
   "cell_type": "code",
   "execution_count": 14,
   "metadata": {},
   "outputs": [
    {
     "data": {
      "image/png": "[encoded data removed]",
      "text/plain": [
       "<Figure size 432x288 with 1 Axes>"
      ]
     },
     "metadata": {
      "needs_background": "light"
     },
     "output_type": "display_data"
    }
   ],
   "source": [
    "plt.plot(range(1,len(training_costs) + 1), training_costs)\n",
    "plt.tight_layout()\n",
    "plt.xlabel('Epoch')\n",
    "plt.ylabel('Training Cost')\n",
    "plt.tight_layout()\n",
    "plt.show()"
   ]
  },
  {
   "cell_type": "code",
   "execution_count": 15,
   "metadata": {},
   "outputs": [
    {
     "data": {
      "image/png": "[encoded data removed]",
      "text/plain": [
       "<Figure size 432x288 with 1 Axes>"
      ]
     },
     "metadata": {
      "needs_background": "light"
     },
     "output_type": "display_data"
    }
   ],
   "source": [
    "plt.scatter(X_train, y_train,\n",
    "            marker='s', s=50,\n",
    "            label='Training Data')\n",
    "plt.plot(range(X_train.shape[0]), \n",
    "         lrmodel.predict(X_train),\n",
    "         color='gray', marker='o', \n",
    "         markersize=6, linewidth=3,\n",
    "         label='LinReg Model')\n",
    "plt.xlabel('x')\n",
    "plt.ylabel('y')\n",
    "plt.legend()\n",
    "plt.tight_layout()\n",
    "plt.show()"
   ]
  },
  {
   "cell_type": "markdown",
   "metadata": {},
   "source": [
    "## 케라스 API로 다층 신경망 훈련하기"
   ]
  },
  {
   "cell_type": "markdown",
   "metadata": {},
   "source": [
    "- MNIST 데이터셋에 대한 자세한 내용은 12장을 참고하세요."
   ]
  },
  {
   "cell_type": "markdown",
   "metadata": {},
   "source": [
    "**코랩을 사용할 때는 다음 셀의 주석을 제거하고 실행하세요.**"
   ]
  },
  {
   "cell_type": "code",
   "execution_count": null,
   "metadata": {},
   "outputs": [],
   "source": [
    "#!wget https://github.com/rickiepark/python-machine-learning-book-2nd-edition/raw/master/code/ch12/t10k-images-idx3-ubyte.gz\n",
    "#!wget https://github.com/rickiepark/python-machine-learning-book-2nd-edition/raw/master/code/ch12/t10k-labels-idx1-ubyte.gz\n",
    "#!wget https://github.com/rickiepark/python-machine-learning-book-2nd-edition/raw/master/code/ch12/train-images-idx3-ubyte.gz\n",
    "#!wget https://github.com/rickiepark/python-machine-learning-book-2nd-edition/raw/master/code/ch12/train-labels-idx1-ubyte.gz  "
   ]
  },
  {
   "cell_type": "code",
   "execution_count": 16,
   "metadata": {},
   "outputs": [],
   "source": [
    "# MNIST 데이터셋 압축 해제\n",
    "\n",
    "import sys\n",
    "import gzip\n",
    "import shutil\n",
    "import os\n",
    "\n",
    "if (sys.version_info > (3, 0)):\n",
    "    writemode = 'wb'\n",
    "else:\n",
    "    writemode = 'w'\n",
    "\n",
    "zipped_mnist = [f for f in os.listdir('./') if f.endswith('ubyte.gz')]\n",
    "for z in zipped_mnist:\n",
    "    with gzip.GzipFile(z, mode='rb') as decompressed, open(z[:-3], writemode) as outfile:\n",
    "        outfile.write(decompressed.read())"
   ]
  },
  {
   "cell_type": "code",
   "execution_count": 17,
   "metadata": {},
   "outputs": [],
   "source": [
    "import struct\n",
    " \n",
    "def load_mnist(path, kind='train'):\n",
    "    \"\"\"`path`에서 MNIST 데이터 적재하기\u001c",
    "\"\"\"\n",
    "    labels_path = os.path.join(path, \n",
    "                               '%s-labels-idx1-ubyte' % kind)\n",
    "    images_path = os.path.join(path, \n",
    "                               '%s-images-idx3-ubyte' % kind)\n",
    "        \n",
    "    with open(labels_path, 'rb') as lbpath:\n",
    "        magic, n = struct.unpack('>II', \n",
    "                                 lbpath.read(8))\n",
    "        labels = np.fromfile(lbpath, \n",
    "                             dtype=np.uint8)\n",
    "\n",
    "    with open(images_path, 'rb') as imgpath:\n",
    "        magic, num, rows, cols = struct.unpack(\">IIII\", \n",
    "                                               imgpath.read(16))\n",
    "        images = np.fromfile(imgpath, \n",
    "                             dtype=np.uint8).reshape(len(labels), 784)\n",
    "        images = ((images / 255.) - .5) * 2\n",
    " \n",
    "    return images, labels"
   ]
  },
  {
   "cell_type": "code",
   "execution_count": 18,
   "metadata": {},
   "outputs": [
    {
     "name": "stdout",
     "output_type": "stream",
     "text": [
      "행: 60000,  열: 784\n",
      "행: 10000,  열: 784\n",
      "(60000, 784) (60000,)\n",
      "(10000, 784) (10000,)\n"
     ]
    }
   ],
   "source": [
    "X_train, y_train = load_mnist('./', kind='train')\n",
    "print('행: %d,  열: %d' %(X_train.shape[0], \n",
    "                                 X_train.shape[1]))\n",
    "X_test, y_test = load_mnist('./', kind='t10k')\n",
    "print('행: %d,  열: %d' %(X_test.shape[0], \n",
    "                                 X_test.shape[1]))\n",
    "\n",
    "## 평균을 0으로 만들고 표준 편차로 나눕니다.\n",
    "mean_vals = np.mean(X_train, axis=0)\n",
    "std_val = np.std(X_train)\n",
    "\n",
    "X_train_centered = (X_train - mean_vals)/std_val\n",
    "X_test_centered = (X_test - mean_vals)/std_val\n",
    " \n",
    "del X_train, X_test\n",
    " \n",
    "print(X_train_centered.shape, y_train.shape)\n",
    "\n",
    "print(X_test_centered.shape, y_test.shape)"
   ]
  },
  {
   "cell_type": "code",
   "execution_count": 19,
   "metadata": {},
   "outputs": [],
   "source": [
    "np.random.seed(123)"
   ]
  },
  {
   "cell_type": "code",
   "execution_count": 20,
   "metadata": {
    "scrolled": true
   },
   "outputs": [
    {
     "name": "stdout",
     "output_type": "stream",
     "text": [
      "처음 3개 레이블:  [5 0 4]\n",
      "\n",
      "처음 3개 레이블 (원-핫):\n",
      " [[0. 0. 0. 0. 0. 1. 0. 0. 0. 0.]\n",
      " [1. 0. 0. 0. 0. 0. 0. 0. 0. 0.]\n",
      " [0. 0. 0. 0. 1. 0. 0. 0. 0. 0.]]\n"
     ]
    }
   ],
   "source": [
    "y_train_onehot = tf.keras.utils.to_categorical(y_train)\n",
    " \n",
    "print('처음 3개 레이블: ', y_train[:3])\n",
    "print('\\n처음 3개 레이블 (원-핫):\\n', y_train_onehot[:3])"
   ]
  },
  {
   "cell_type": "code",
   "execution_count": 21,
   "metadata": {},
   "outputs": [],
   "source": [
    "model = tf.keras.models.Sequential()\n",
    "\n",
    "model.add(\n",
    "    tf.keras.layers.Dense(\n",
    "        units=50,    \n",
    "        input_dim=X_train_centered.shape[1],\n",
    "        kernel_initializer='glorot_uniform',\n",
    "        bias_initializer='zeros',\n",
    "        activation='tanh'))\n",
    "\n",
    "model.add(\n",
    "    tf.keras.layers.Dense(\n",
    "        units=50,    \n",
    "        input_dim=50,\n",
    "        kernel_initializer='glorot_uniform',\n",
    "        bias_initializer='zeros',\n",
    "        activation='tanh'))\n",
    "\n",
    "model.add(\n",
    "    tf.keras.layers.Dense(\n",
    "        units=y_train_onehot.shape[1],    \n",
    "        input_dim=50,\n",
    "        kernel_initializer='glorot_uniform',\n",
    "        bias_initializer='zeros',\n",
    "        activation='softmax'))"
   ]
  },
  {
   "cell_type": "code",
   "execution_count": 22,
   "metadata": {},
   "outputs": [
    {
     "name": "stdout",
     "output_type": "stream",
     "text": [
      "Model: \"sequential\"\n",
      "_________________________________________________________________\n",
      "Layer (type)                 Output Shape              Param #   \n",
      "=================================================================\n",
      "dense (Dense)                (None, 50)                39250     \n",
      "_________________________________________________________________\n",
      "dense_1 (Dense)              (None, 50)                2550      \n",
      "_________________________________________________________________\n",
      "dense_2 (Dense)              (None, 10)                510       \n",
      "=================================================================\n",
      "Total params: 42,310\n",
      "Trainable params: 42,310\n",
      "Non-trainable params: 0\n",
      "_________________________________________________________________\n"
     ]
    }
   ],
   "source": [
    "model.summary()"
   ]
  },
  {
   "cell_type": "code",
   "execution_count": 23,
   "metadata": {},
   "outputs": [],
   "source": [
    "sgd_optimizer = tf.keras.optimizers.SGD(\n",
    "    lr=0.001, decay=1e-7, momentum=.9)\n",
    "\n",
    "model.compile(optimizer=sgd_optimizer,\n",
    "              loss='categorical_crossentropy')"
   ]
  },
  {
   "cell_type": "code",
   "execution_count": 24,
   "metadata": {},
   "outputs": [
    {
     "name": "stdout",
     "output_type": "stream",
     "text": [
      "Train on 54000 samples, validate on 6000 samples\n",
      "Epoch 1/50\n",
      "54000/54000 [==============================] - 1s 28us/sample - loss: 0.7208 - val_loss: 0.3660\n",
      "Epoch 2/50\n",
      "54000/54000 [==============================] - 1s 23us/sample - loss: 0.3681 - val_loss: 0.2766\n",
      "Epoch 3/50\n",
      "54000/54000 [==============================] - 1s 23us/sample - loss: 0.3001 - val_loss: 0.2374\n",
      "Epoch 4/50\n",
      "54000/54000 [==============================] - 1s 23us/sample - loss: 0.2626 - val_loss: 0.2145\n",
      "Epoch 5/50\n",
      "54000/54000 [==============================] - 1s 23us/sample - loss: 0.2367 - val_loss: 0.1989\n",
      "Epoch 6/50\n",
      "54000/54000 [==============================] - 1s 23us/sample - loss: 0.2169 - val_loss: 0.1854\n",
      "Epoch 7/50\n",
      "54000/54000 [==============================] - 1s 23us/sample - loss: 0.2009 - val_loss: 0.1760\n",
      "Epoch 8/50\n",
      "54000/54000 [==============================] - 1s 23us/sample - loss: 0.1875 - val_loss: 0.1678\n",
      "Epoch 9/50\n",
      "54000/54000 [==============================] - 1s 23us/sample - loss: 0.1760 - val_loss: 0.1619\n",
      "Epoch 10/50\n",
      "54000/54000 [==============================] - 1s 23us/sample - loss: 0.1663 - val_loss: 0.1563\n",
      "Epoch 11/50\n",
      "54000/54000 [==============================] - 1s 23us/sample - loss: 0.1574 - val_loss: 0.1515\n",
      "Epoch 12/50\n",
      "54000/54000 [==============================] - 1s 23us/sample - loss: 0.1496 - val_loss: 0.1475\n",
      "Epoch 13/50\n",
      "54000/54000 [==============================] - 1s 23us/sample - loss: 0.1423 - val_loss: 0.1445\n",
      "Epoch 14/50\n",
      "54000/54000 [==============================] - 1s 23us/sample - loss: 0.1360 - val_loss: 0.1402\n",
      "Epoch 15/50\n",
      "54000/54000 [==============================] - 1s 23us/sample - loss: 0.1301 - val_loss: 0.1382\n",
      "Epoch 16/50\n",
      "54000/54000 [==============================] - 1s 23us/sample - loss: 0.1247 - val_loss: 0.1366\n",
      "Epoch 17/50\n",
      "54000/54000 [==============================] - 1s 23us/sample - loss: 0.1198 - val_loss: 0.1334\n",
      "Epoch 18/50\n",
      "54000/54000 [==============================] - 1s 23us/sample - loss: 0.1149 - val_loss: 0.1318\n",
      "Epoch 19/50\n",
      "54000/54000 [==============================] - 1s 23us/sample - loss: 0.1106 - val_loss: 0.1311\n",
      "Epoch 20/50\n",
      "54000/54000 [==============================] - 1s 23us/sample - loss: 0.1067 - val_loss: 0.1282\n",
      "Epoch 21/50\n",
      "54000/54000 [==============================] - 1s 23us/sample - loss: 0.1029 - val_loss: 0.1272\n",
      "Epoch 22/50\n",
      "54000/54000 [==============================] - 1s 23us/sample - loss: 0.0992 - val_loss: 0.1255\n",
      "Epoch 23/50\n",
      "54000/54000 [==============================] - 1s 23us/sample - loss: 0.0961 - val_loss: 0.1256\n",
      "Epoch 24/50\n",
      "54000/54000 [==============================] - 1s 23us/sample - loss: 0.0928 - val_loss: 0.1241\n",
      "Epoch 25/50\n",
      "54000/54000 [==============================] - 1s 23us/sample - loss: 0.0898 - val_loss: 0.1235\n",
      "Epoch 26/50\n",
      "54000/54000 [==============================] - 1s 23us/sample - loss: 0.0869 - val_loss: 0.1221\n",
      "Epoch 27/50\n",
      "54000/54000 [==============================] - 1s 23us/sample - loss: 0.0841 - val_loss: 0.1215\n",
      "Epoch 28/50\n",
      "54000/54000 [==============================] - 1s 23us/sample - loss: 0.0815 - val_loss: 0.1214\n",
      "Epoch 29/50\n",
      "54000/54000 [==============================] - 1s 23us/sample - loss: 0.0790 - val_loss: 0.1201\n",
      "Epoch 30/50\n",
      "54000/54000 [==============================] - 1s 23us/sample - loss: 0.0767 - val_loss: 0.1195\n",
      "Epoch 31/50\n",
      "54000/54000 [==============================] - 1s 23us/sample - loss: 0.0743 - val_loss: 0.1197\n",
      "Epoch 32/50\n",
      "54000/54000 [==============================] - 1s 23us/sample - loss: 0.0722 - val_loss: 0.1195\n",
      "Epoch 33/50\n",
      "54000/54000 [==============================] - 1s 23us/sample - loss: 0.0700 - val_loss: 0.1186\n",
      "Epoch 34/50\n",
      "54000/54000 [==============================] - 1s 23us/sample - loss: 0.0680 - val_loss: 0.1188\n",
      "Epoch 35/50\n",
      "54000/54000 [==============================] - 1s 23us/sample - loss: 0.0661 - val_loss: 0.1188\n",
      "Epoch 36/50\n",
      "54000/54000 [==============================] - 1s 23us/sample - loss: 0.0643 - val_loss: 0.1185\n",
      "Epoch 37/50\n",
      "54000/54000 [==============================] - 1s 23us/sample - loss: 0.0625 - val_loss: 0.1190\n",
      "Epoch 38/50\n",
      "54000/54000 [==============================] - 1s 23us/sample - loss: 0.0608 - val_loss: 0.1177\n",
      "Epoch 39/50\n",
      "54000/54000 [==============================] - 1s 23us/sample - loss: 0.0591 - val_loss: 0.1169\n",
      "Epoch 40/50\n",
      "54000/54000 [==============================] - 1s 23us/sample - loss: 0.0575 - val_loss: 0.1169\n",
      "Epoch 41/50\n",
      "54000/54000 [==============================] - 1s 23us/sample - loss: 0.0560 - val_loss: 0.1172\n",
      "Epoch 42/50\n",
      "54000/54000 [==============================] - 1s 23us/sample - loss: 0.0545 - val_loss: 0.1182\n",
      "Epoch 43/50\n",
      "54000/54000 [==============================] - 1s 23us/sample - loss: 0.0530 - val_loss: 0.1189\n",
      "Epoch 44/50\n",
      "54000/54000 [==============================] - 1s 23us/sample - loss: 0.0516 - val_loss: 0.1183\n",
      "Epoch 45/50\n",
      "54000/54000 [==============================] - 1s 23us/sample - loss: 0.0503 - val_loss: 0.1173\n",
      "Epoch 46/50\n",
      "54000/54000 [==============================] - 1s 23us/sample - loss: 0.0489 - val_loss: 0.1192\n",
      "Epoch 47/50\n",
      "54000/54000 [==============================] - 1s 23us/sample - loss: 0.0477 - val_loss: 0.1188\n",
      "Epoch 48/50\n",
      "54000/54000 [==============================] - 1s 23us/sample - loss: 0.0464 - val_loss: 0.1182\n",
      "Epoch 49/50\n",
      "54000/54000 [==============================] - 1s 23us/sample - loss: 0.0452 - val_loss: 0.1190\n",
      "Epoch 50/50\n",
      "54000/54000 [==============================] - 1s 23us/sample - loss: 0.0441 - val_loss: 0.1190\n"
     ]
    }
   ],
   "source": [
    "history = model.fit(X_train_centered, y_train_onehot,\n",
    "                    batch_size=64, epochs=50,\n",
    "                    verbose=1,\n",
    "                    validation_split=0.1)"
   ]
  },
  {
   "cell_type": "code",
   "execution_count": 25,
   "metadata": {},
   "outputs": [
    {
     "name": "stdout",
     "output_type": "stream",
     "text": [
      "처음 3개 예측:  [5 0 4]\n"
     ]
    }
   ],
   "source": [
    "y_train_pred = model.predict_classes(X_train_centered, verbose=0)\n",
    "print('처음 3개 예측: ', y_train_pred[:3])"
   ]
  },
  {
   "cell_type": "code",
   "execution_count": 26,
   "metadata": {},
   "outputs": [
    {
     "name": "stdout",
     "output_type": "stream",
     "text": [
      "처음 3개 예측:  [5 0 4]\n",
      "훈련 정확도: 98.94%\n"
     ]
    }
   ],
   "source": [
    "y_train_pred = model.predict_classes(X_train_centered, \n",
    "                                     verbose=0)\n",
    "correct_preds = np.sum(y_train == y_train_pred, axis=0) \n",
    "train_acc = correct_preds / y_train.shape[0]\n",
    "\n",
    "print('처음 3개 예측: ', y_train_pred[:3])\n",
    "print('훈련 정확도: %.2f%%' % (train_acc * 100))"
   ]
  },
  {
   "cell_type": "code",
   "execution_count": 27,
   "metadata": {},
   "outputs": [
    {
     "name": "stdout",
     "output_type": "stream",
     "text": [
      "테스트 정확도: 96.22%\n"
     ]
    }
   ],
   "source": [
    "y_test_pred = model.predict_classes(X_test_centered, \n",
    "                                    verbose=0)\n",
    "\n",
    "correct_preds = np.sum(y_test == y_test_pred, axis=0) \n",
    "test_acc = correct_preds / y_test.shape[0]\n",
    "print('테스트 정확도: %.2f%%' % (test_acc * 100))"
   ]
  },
  {
   "cell_type": "markdown",
   "metadata": {},
   "source": [
    "## 다층 신경망의 활성화 함수 선택하기"
   ]
  },
  {
   "cell_type": "markdown",
   "metadata": {},
   "source": [
    "### 로지스틱 함수 요약"
   ]
  },
  {
   "cell_type": "code",
   "execution_count": 28,
   "metadata": {},
   "outputs": [
    {
     "name": "stdout",
     "output_type": "stream",
     "text": [
      "P(y=1|x) = 0.888\n"
     ]
    }
   ],
   "source": [
    "import numpy as np\n",
    "\n",
    "X = np.array([1, 1.4, 2.5]) ## 첫 번째 원소는 1이어야 합니다\n",
    "w = np.array([0.4, 0.3, 0.5])\n",
    "\n",
    "def net_input(X, w):\n",
    "    return np.dot(X, w)\n",
    "\n",
    "def logistic(z):\n",
    "    return 1.0 / (1.0 + np.exp(-z))\n",
    "\n",
    "def logistic_activation(X, w):\n",
    "    z = net_input(X, w)\n",
    "    return logistic(z)\n",
    "\n",
    "print('P(y=1|x) = %.3f' % logistic_activation(X, w))"
   ]
  },
  {
   "cell_type": "code",
   "execution_count": 29,
   "metadata": {},
   "outputs": [
    {
     "name": "stdout",
     "output_type": "stream",
     "text": [
      "최종 입력: \n",
      " [1.78 0.76 1.65]\n",
      "출력 유닛:\n",
      " [0.85569687 0.68135373 0.83889105]\n"
     ]
    }
   ],
   "source": [
    "# W : (n_output_units, n_hidden_units+1) 크기의 배열\n",
    "#     첫 번째 열은 절편 유닛입니다.\n",
    "\n",
    "W = np.array([[1.1, 1.2, 0.8, 0.4],\n",
    "              [0.2, 0.4, 1.0, 0.2],\n",
    "              [0.6, 1.5, 1.2, 0.7]])\n",
    "\n",
    "# A : (n_hidden_units + 1, n_samples) 크기의 배열\n",
    "#     이 배열의 첫 번째 열은 1입니다.\n",
    "\n",
    "A = np.array([[1, 0.1, 0.4, 0.6]])\n",
    "\n",
    "Z = np.dot(W, A[0])\n",
    "y_probas = logistic(Z)\n",
    "\n",
    "print('최종 입력: \\n', Z)\n",
    "\n",
    "print('출력 유닛:\\n', y_probas)"
   ]
  },
  {
   "cell_type": "code",
   "execution_count": 30,
   "metadata": {},
   "outputs": [
    {
     "name": "stdout",
     "output_type": "stream",
     "text": [
      "예측 클래스 레이블: 0\n"
     ]
    }
   ],
   "source": [
    "y_class = np.argmax(Z, axis=0)\n",
    "print('예측 클래스 레이블: %d' % y_class)"
   ]
  },
  {
   "cell_type": "markdown",
   "metadata": {},
   "source": [
    "### 소프트맥스 함수를 사용하여 다중 클래스의 확률을 예측하기"
   ]
  },
  {
   "cell_type": "code",
   "execution_count": 31,
   "metadata": {},
   "outputs": [
    {
     "name": "stdout",
     "output_type": "stream",
     "text": [
      "확률:\n",
      " [0.44668973 0.16107406 0.39223621]\n"
     ]
    }
   ],
   "source": [
    "def softmax(z):\n",
    "    return np.exp(z) / np.sum(np.exp(z))\n",
    "\n",
    "y_probas = softmax(Z)\n",
    "print('확률:\\n', y_probas)"
   ]
  },
  {
   "cell_type": "code",
   "execution_count": 32,
   "metadata": {},
   "outputs": [
    {
     "data": {
      "text/plain": [
       "1.0"
      ]
     },
     "execution_count": 32,
     "metadata": {},
     "output_type": "execute_result"
    }
   ],
   "source": [
    "np.sum(y_probas)"
   ]
  },
  {
   "cell_type": "markdown",
   "metadata": {},
   "source": [
    "### 하이퍼볼릭 탄젠트로 출력 범위 넓히기"
   ]
  },
  {
   "cell_type": "code",
   "execution_count": 33,
   "metadata": {},
   "outputs": [
    {
     "data": {
      "image/png": "[encoded data removed]",
      "text/plain": [
       "<Figure size 432x288 with 1 Axes>"
      ]
     },
     "metadata": {
      "needs_background": "light"
     },
     "output_type": "display_data"
    }
   ],
   "source": [
    "import matplotlib.pyplot as plt\n",
    "\n",
    "def tanh(z):\n",
    "    e_p = np.exp(z)\n",
    "    e_m = np.exp(-z)\n",
    "    return (e_p - e_m) / (e_p + e_m)\n",
    "\n",
    "z = np.arange(-5, 5, 0.005)\n",
    "log_act = logistic(z)\n",
    "tanh_act = tanh(z)\n",
    "\n",
    "plt.ylim([-1.5, 1.5])\n",
    "plt.xlabel('net input $z$')\n",
    "plt.ylabel('activation $\\phi(z)$')\n",
    "plt.axhline(1, color='black', linestyle=':')\n",
    "plt.axhline(0.5, color='black', linestyle=':')\n",
    "plt.axhline(0, color='black', linestyle=':')\n",
    "plt.axhline(-0.5, color='black', linestyle=':')\n",
    "plt.axhline(-1, color='black', linestyle=':')\n",
    "\n",
    "plt.plot(z, tanh_act,\n",
    "         linewidth=3, linestyle='--',\n",
    "         label='tanh')\n",
    "\n",
    "plt.plot(z, log_act,\n",
    "         linewidth=3,\n",
    "         label='logistic')\n",
    "plt.legend(loc='lower right')\n",
    "plt.tight_layout()\n",
    "plt.show()"
   ]
  }
 ],
 "metadata": {
  "kernelspec": {
   "display_name": "Python 3",
   "language": "python",
   "name": "python3"
  },
  "language_info": {
   "codemirror_mode": {
    "name": "ipython",
    "version": 3
   },
   "file_extension": ".py",
   "mimetype": "text/x-python",
   "name": "python",
   "nbconvert_exporter": "python",
   "pygments_lexer": "ipython3",
   "version": "3.7.3"
  }
 },
 "nbformat": 4,
 "nbformat_minor": 2
}
